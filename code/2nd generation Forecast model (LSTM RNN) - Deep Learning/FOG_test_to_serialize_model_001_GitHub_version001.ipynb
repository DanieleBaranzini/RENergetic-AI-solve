{
 "cells": [
  {
   "cell_type": "markdown",
   "metadata": {},
   "source": [
    "# RENergetic (OSR predictive tests on Use Case 1)\n",
    "## Algorithm LSTM \n",
    ".\n",
    ".\n",
    ".\n",
    "#### ALGORITHM TYPE: Deep Learning LSTM Neural Network\n",
    "\n",
    "#### OBJECTIVE: prediction of heat energy consumption (MWh) in Dibit 2 building in OSR\n",
    "\n",
    "#### Samplig Rate: 1 hr \n",
    "\n",
    "#### PREDICTION: prediction is single step (a single hour forward prediction)\n",
    "\n",
    ".\n",
    ".\n",
    ".\n",
    "\n",
    "\n",
    "#### MW consumption Dibit2 from 8-Nov-2020 07:00:00 to 9-Nov-2020 22:00:00\n",
    "\n",
    "#### PREDICT NEXT HOUR ---> 9-Nov-2020 23:00:00\n",
    "\n",
    "###### NOTE @21-10-21 model is for demo purpose only (no cross-validation and hypermparmenter optimization is provided)\n"
   ]
  },
  {
   "cell_type": "code",
   "execution_count": 1,
   "metadata": {
    "scrolled": false
   },
   "outputs": [
    {
     "name": "stderr",
     "output_type": "stream",
     "text": [
      "Using TensorFlow backend.\n",
      "C:\\Users\\DANIELE\\Anaconda3\\envs\\test_Models_2021\\lib\\site-packages\\tensorflow\\python\\framework\\dtypes.py:516: FutureWarning: Passing (type, 1) or '1type' as a synonym of type is deprecated; in a future version of numpy, it will be understood as (type, (1,)) / '(1,)type'.\n",
      "  _np_qint8 = np.dtype([(\"qint8\", np.int8, 1)])\n",
      "C:\\Users\\DANIELE\\Anaconda3\\envs\\test_Models_2021\\lib\\site-packages\\tensorflow\\python\\framework\\dtypes.py:517: FutureWarning: Passing (type, 1) or '1type' as a synonym of type is deprecated; in a future version of numpy, it will be understood as (type, (1,)) / '(1,)type'.\n",
      "  _np_quint8 = np.dtype([(\"quint8\", np.uint8, 1)])\n",
      "C:\\Users\\DANIELE\\Anaconda3\\envs\\test_Models_2021\\lib\\site-packages\\tensorflow\\python\\framework\\dtypes.py:518: FutureWarning: Passing (type, 1) or '1type' as a synonym of type is deprecated; in a future version of numpy, it will be understood as (type, (1,)) / '(1,)type'.\n",
      "  _np_qint16 = np.dtype([(\"qint16\", np.int16, 1)])\n",
      "C:\\Users\\DANIELE\\Anaconda3\\envs\\test_Models_2021\\lib\\site-packages\\tensorflow\\python\\framework\\dtypes.py:519: FutureWarning: Passing (type, 1) or '1type' as a synonym of type is deprecated; in a future version of numpy, it will be understood as (type, (1,)) / '(1,)type'.\n",
      "  _np_quint16 = np.dtype([(\"quint16\", np.uint16, 1)])\n",
      "C:\\Users\\DANIELE\\Anaconda3\\envs\\test_Models_2021\\lib\\site-packages\\tensorflow\\python\\framework\\dtypes.py:520: FutureWarning: Passing (type, 1) or '1type' as a synonym of type is deprecated; in a future version of numpy, it will be understood as (type, (1,)) / '(1,)type'.\n",
      "  _np_qint32 = np.dtype([(\"qint32\", np.int32, 1)])\n",
      "C:\\Users\\DANIELE\\Anaconda3\\envs\\test_Models_2021\\lib\\site-packages\\tensorflow\\python\\framework\\dtypes.py:525: FutureWarning: Passing (type, 1) or '1type' as a synonym of type is deprecated; in a future version of numpy, it will be understood as (type, (1,)) / '(1,)type'.\n",
      "  np_resource = np.dtype([(\"resource\", np.ubyte, 1)])\n",
      "C:\\Users\\DANIELE\\Anaconda3\\envs\\test_Models_2021\\lib\\site-packages\\tensorboard\\compat\\tensorflow_stub\\dtypes.py:541: FutureWarning: Passing (type, 1) or '1type' as a synonym of type is deprecated; in a future version of numpy, it will be understood as (type, (1,)) / '(1,)type'.\n",
      "  _np_qint8 = np.dtype([(\"qint8\", np.int8, 1)])\n",
      "C:\\Users\\DANIELE\\Anaconda3\\envs\\test_Models_2021\\lib\\site-packages\\tensorboard\\compat\\tensorflow_stub\\dtypes.py:542: FutureWarning: Passing (type, 1) or '1type' as a synonym of type is deprecated; in a future version of numpy, it will be understood as (type, (1,)) / '(1,)type'.\n",
      "  _np_quint8 = np.dtype([(\"quint8\", np.uint8, 1)])\n",
      "C:\\Users\\DANIELE\\Anaconda3\\envs\\test_Models_2021\\lib\\site-packages\\tensorboard\\compat\\tensorflow_stub\\dtypes.py:543: FutureWarning: Passing (type, 1) or '1type' as a synonym of type is deprecated; in a future version of numpy, it will be understood as (type, (1,)) / '(1,)type'.\n",
      "  _np_qint16 = np.dtype([(\"qint16\", np.int16, 1)])\n",
      "C:\\Users\\DANIELE\\Anaconda3\\envs\\test_Models_2021\\lib\\site-packages\\tensorboard\\compat\\tensorflow_stub\\dtypes.py:544: FutureWarning: Passing (type, 1) or '1type' as a synonym of type is deprecated; in a future version of numpy, it will be understood as (type, (1,)) / '(1,)type'.\n",
      "  _np_quint16 = np.dtype([(\"quint16\", np.uint16, 1)])\n",
      "C:\\Users\\DANIELE\\Anaconda3\\envs\\test_Models_2021\\lib\\site-packages\\tensorboard\\compat\\tensorflow_stub\\dtypes.py:545: FutureWarning: Passing (type, 1) or '1type' as a synonym of type is deprecated; in a future version of numpy, it will be understood as (type, (1,)) / '(1,)type'.\n",
      "  _np_qint32 = np.dtype([(\"qint32\", np.int32, 1)])\n",
      "C:\\Users\\DANIELE\\Anaconda3\\envs\\test_Models_2021\\lib\\site-packages\\tensorboard\\compat\\tensorflow_stub\\dtypes.py:550: FutureWarning: Passing (type, 1) or '1type' as a synonym of type is deprecated; in a future version of numpy, it will be understood as (type, (1,)) / '(1,)type'.\n",
      "  np_resource = np.dtype([(\"resource\", np.ubyte, 1)])\n"
     ]
    }
   ],
   "source": [
    "# univariate lstm example\n",
    "from numpy import array\n",
    "from keras.models import Sequential\n",
    "from keras.layers import LSTM\n",
    "from keras.layers import Dense               # note!: let's keep hidden layers easy: 1 dense ok!"
   ]
  },
  {
   "cell_type": "code",
   "execution_count": 2,
   "metadata": {},
   "outputs": [],
   "source": [
    "def split_sequence(sequence, n_steps):                                  # split sequence in 2D\n",
    "    X, y = list(), list()\n",
    "    for i in range(len(sequence)):\n",
    "        # find the end of this pattern\n",
    "        end_ix = i + n_steps\n",
    "        \n",
    "        if end_ix > len(sequence)-1:                                     # check break\n",
    "            break\n",
    "        # gather input and output parts of the pattern\n",
    "        seq_x, seq_y = sequence[i:end_ix], sequence[end_ix]\n",
    "        X.append(seq_x)\n",
    "        y.append(seq_y)\n",
    "        return array(X), array(y)"
   ]
  },
  {
   "cell_type": "code",
   "execution_count": 3,
   "metadata": {},
   "outputs": [],
   "source": [
    " # let's enter a 10x4 (sequenceXtimesteps) \n",
    "                                        # MW consumption Dibit2 from 8-Nov-2020 07:00:00 to 9-Nov-2020 22:00:00\n",
    "                                        # LET'S PREDICT NEXT HOUR ---> 9-Nov-2020 23:00:00 ??\n",
    "                                             \n",
    "MW_sequence = [2.330,2.260,2.320,2.160,\n",
    "               2.100,1.750,1.670,1.710,\n",
    "               1.600,1.700,1.680,1.700,\n",
    "               1.980,1.850,1.940,1.980,\n",
    "               2.060,2.160,2.280,2.190,\n",
    "               2.250,2.250,2.250,2.260,\n",
    "               2.300,2.260,2.060,2.190,\n",
    "               2.050,1.680,1.890,1.550,\n",
    "               1.880,1.760,1.730,1.740,\n",
    "               1.760,1.760,1.910,2.010]  # let's make temporal forwar prediction for next hour MW consumption "
   ]
  },
  {
   "cell_type": "code",
   "execution_count": 4,
   "metadata": {},
   "outputs": [],
   "source": [
    "n_steps = 4\n",
    "n_features = 1\n",
    "X, y = split_sequence(MW_sequence, n_steps)                               # split into samples\n",
    "X = X.reshape((X.shape[0], X.shape[1], n_features))                       # reshape to 3D[samples, timesteps, features]"
   ]
  },
  {
   "cell_type": "code",
   "execution_count": 5,
   "metadata": {},
   "outputs": [
    {
     "name": "stdout",
     "output_type": "stream",
     "text": [
      "WARNING:tensorflow:From C:\\Users\\DANIELE\\Anaconda3\\envs\\test_Models_2021\\lib\\site-packages\\keras\\backend\\tensorflow_backend.py:422: The name tf.global_variables is deprecated. Please use tf.compat.v1.global_variables instead.\n",
      "\n"
     ]
    }
   ],
   "source": [
    "model = Sequential()\n",
    "model.add(LSTM(80, activation='relu', input_shape=(n_steps, n_features))) #LSTM model!!!\n",
    "model.add(Dense(1))\n",
    "model.compile(optimizer='adam', loss='mse')\n",
    "model.fit(X, y, epochs=200, verbose=0)                                    # fit method\n",
    "\n",
    "x_input = array([1.760,1.760,1.910,2.010])                              # take last 4-samples to make prediction\n",
    "# NEW_input = array([1.880,1.760,1.730,1.740])                          # take preceeding 4 samples to make prediction \n",
    "\n",
    "x_input = x_input.reshape((1, n_steps, n_features))\n",
    "yhat = model.predict(x_input, verbose=0)                                  # predict method"
   ]
  },
  {
   "cell_type": "markdown",
   "metadata": {},
   "source": [
    "### forecast value \n",
    "###### next hour (x_input) is expected MW 2.170   ;     \n",
    "###### next hour (NEW_input) is expected MW 1.760"
   ]
  },
  {
   "cell_type": "code",
   "execution_count": 6,
   "metadata": {
    "scrolled": true
   },
   "outputs": [
    {
     "name": "stdout",
     "output_type": "stream",
     "text": [
      "next hour prediction:  [[1.5617996]]\n"
     ]
    }
   ],
   "source": [
    "print('next hour prediction: ', yhat)"
   ]
  },
  {
   "cell_type": "markdown",
   "metadata": {},
   "source": [
    "## LSTM model stored in RENergetic platform \n",
    "### (option: use a Docker container to operate on this python .py file)"
   ]
  },
  {
   "cell_type": "code",
   "execution_count": 7,
   "metadata": {},
   "outputs": [],
   "source": [
    "import pickle5 as pickle\n",
    "# save the model to disk\n",
    "filename = 'OSR_example_RENERGETIC_LSTM_model.sav'\n",
    "pickle.dump(model, open(filename, 'wb'))"
   ]
  },
  {
   "cell_type": "markdown",
   "metadata": {},
   "source": [
    "## some time later...\n",
    "\n",
    "## ...deploy LSTM model on new incoming data stream \n",
    "#### (a 4 hours stream input to forecast the fifth hour) "
   ]
  },
  {
   "cell_type": "code",
   "execution_count": 8,
   "metadata": {},
   "outputs": [
    {
     "name": "stdout",
     "output_type": "stream",
     "text": [
      "next hour prediction:  [[1.5058784]]\n"
     ]
    }
   ],
   "source": [
    "NEW_input = array([1.880,1.760,1.730,1.740])                #read commented NEW_input above...so expected 1hr forward is MW 1.760 \n",
    "NEW_input = NEW_input.reshape((1, n_steps, n_features))\n",
    " \n",
    "# load the model from disk\n",
    "loaded_model = pickle.load(open(filename, 'rb'))            #note:filename is 'OSR_example_RENERGETIC_LSTM_model.sav'\n",
    "result = loaded_model.predict(NEW_input, verbose=0)\n",
    "print('next hour prediction: ', result)"
   ]
  },
  {
   "cell_type": "markdown",
   "metadata": {},
   "source": [
    "end"
   ]
  }
 ],
 "metadata": {
  "kernelspec": {
   "display_name": "Python 3",
   "language": "python",
   "name": "python3"
  },
  "language_info": {
   "codemirror_mode": {
    "name": "ipython",
    "version": 3
   },
   "file_extension": ".py",
   "mimetype": "text/x-python",
   "name": "python",
   "nbconvert_exporter": "python",
   "pygments_lexer": "ipython3",
   "version": "3.7.4"
  }
 },
 "nbformat": 4,
 "nbformat_minor": 2
}
