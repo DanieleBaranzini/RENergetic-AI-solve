{
 "cells": [
  {
   "cell_type": "markdown",
   "id": "77f86062",
   "metadata": {},
   "source": [
    "## OSR test for case 1a - m3/h + outdoor temperature\n",
    "\n",
    ">   ### model performance is similar to Model 001. The inclusion of outdoor temperature does not increase the model performance above the effect of the m3/h in Model 001 and Modell 003.\n",
    "\n",
    "apparently the outdoor temperature does not fit the MW usage. Potentially the outdoor temperature is not meditaing the MW controls. More analysis is necessary. It is as if the MW consumption controls are not directly affected by the external tempreature\n",
    "\n",
    ">>#### Test RMSE: 0.064\n",
    ">>#### Test MAPE: inf\n",
    ">>#### Test SMAPE: 3.391\n",
    ">>#### Correlation: 0.986\n",
    ">>#### R-squared: 0.972\n",
    "\n",
    ">   #### target feature:            MW (thermic) \n",
    ">   #### exogenous feature:         m3/h + OUT_TEMP (outdoor temperature) \n",
    ">   ### statistical esimator:       SARIMAX - Seasonal Auto-Regressive Integrated Moving Average\n",
    "   \n",
    "\n",
    "\n",
    "> RENergetic Project: fitting a forcasting estimator to predict MW over time and use of m3/h + outdoor temperature as exo feature\n",
    "\n",
    ">This model is based on model proptotyping run in IBM Modeler 18.2 software at 09/05/21\n",
    "\n",
    "> Dataframe from: XXX building complex \n",
    ">   ### time window covered: 15-Aug-2020 -> 09 Nov 2020\n",
    "\n",
    ">Other buildings in OXXX and dataframes available - contact DR D. Baranzini)\n",
    "\n",
    ">> Coding by Dr Daniele Baranzini\n",
    "\n"
   ]
  },
  {
   "cell_type": "code",
   "execution_count": 1,
   "id": "2a0e5d51",
   "metadata": {},
   "outputs": [
    {
     "name": "stdout",
     "output_type": "stream",
     "text": [
      "C:\\Users\\GLP\\anaconda3\\envs\\SARIMAX_py38_test_auto_arima\n"
     ]
    }
   ],
   "source": [
    "# method to check working directory\n",
    "import os\n",
    "CURR_DIR = os.getcwd()\n",
    "print(CURR_DIR)"
   ]
  },
  {
   "cell_type": "code",
   "execution_count": 2,
   "id": "8b5aa73d",
   "metadata": {},
   "outputs": [],
   "source": [
    "%matplotlib inline"
   ]
  },
  {
   "cell_type": "code",
   "execution_count": 3,
   "id": "b4e13601",
   "metadata": {},
   "outputs": [],
   "source": [
    "import numpy as np\n",
    "import pandas as pd\n",
    "#from scipy.stats import norm\n",
    "import matplotlib.pyplot as plt\n",
    "#from datetime import datetime                             # maybe necessary for future actions on dates and indexing\n",
    "from math import sqrt\n",
    "from sklearn.metrics import mean_squared_error\n",
    "from statsmodels.tsa.statespace.sarimax import SARIMAX     # toy-model for SARIMAX estimator\n",
    "#from random import random\n",
    "import openpyxl"
   ]
  },
  {
   "cell_type": "code",
   "execution_count": 4,
   "id": "70f14b7f",
   "metadata": {
    "scrolled": false
   },
   "outputs": [
    {
     "data": {
      "text/html": [
       "<div>\n",
       "<style scoped>\n",
       "    .dataframe tbody tr th:only-of-type {\n",
       "        vertical-align: middle;\n",
       "    }\n",
       "\n",
       "    .dataframe tbody tr th {\n",
       "        vertical-align: top;\n",
       "    }\n",
       "\n",
       "    .dataframe thead th {\n",
       "        text-align: right;\n",
       "    }\n",
       "</style>\n",
       "<table border=\"1\" class=\"dataframe\">\n",
       "  <thead>\n",
       "    <tr style=\"text-align: right;\">\n",
       "      <th></th>\n",
       "      <th>m3_h_orig_orig</th>\n",
       "      <th>OUT_TEMP</th>\n",
       "      <th>MW</th>\n",
       "    </tr>\n",
       "    <tr>\n",
       "      <th>timestamp</th>\n",
       "      <th></th>\n",
       "      <th></th>\n",
       "      <th></th>\n",
       "    </tr>\n",
       "  </thead>\n",
       "  <tbody>\n",
       "    <tr>\n",
       "      <th>2020-08-15 00:00:00</th>\n",
       "      <td>59.8</td>\n",
       "      <td>24.0</td>\n",
       "      <td>0.94</td>\n",
       "    </tr>\n",
       "    <tr>\n",
       "      <th>2020-08-15 01:00:00</th>\n",
       "      <td>59.8</td>\n",
       "      <td>22.9</td>\n",
       "      <td>0.94</td>\n",
       "    </tr>\n",
       "    <tr>\n",
       "      <th>2020-08-15 02:00:00</th>\n",
       "      <td>64.6</td>\n",
       "      <td>21.5</td>\n",
       "      <td>1.07</td>\n",
       "    </tr>\n",
       "    <tr>\n",
       "      <th>2020-08-15 03:00:00</th>\n",
       "      <td>56.2</td>\n",
       "      <td>21.9</td>\n",
       "      <td>0.91</td>\n",
       "    </tr>\n",
       "    <tr>\n",
       "      <th>2020-08-15 04:00:00</th>\n",
       "      <td>64.6</td>\n",
       "      <td>21.5</td>\n",
       "      <td>0.99</td>\n",
       "    </tr>\n",
       "    <tr>\n",
       "      <th>...</th>\n",
       "      <td>...</td>\n",
       "      <td>...</td>\n",
       "      <td>...</td>\n",
       "    </tr>\n",
       "    <tr>\n",
       "      <th>2020-11-09 19:00:00</th>\n",
       "      <td>103.3</td>\n",
       "      <td>11.6</td>\n",
       "      <td>1.76</td>\n",
       "    </tr>\n",
       "    <tr>\n",
       "      <th>2020-11-09 20:00:00</th>\n",
       "      <td>103.6</td>\n",
       "      <td>10.6</td>\n",
       "      <td>1.76</td>\n",
       "    </tr>\n",
       "    <tr>\n",
       "      <th>2020-11-09 21:00:00</th>\n",
       "      <td>104.8</td>\n",
       "      <td>9.8</td>\n",
       "      <td>1.91</td>\n",
       "    </tr>\n",
       "    <tr>\n",
       "      <th>2020-11-09 22:00:00</th>\n",
       "      <td>104.8</td>\n",
       "      <td>9.6</td>\n",
       "      <td>2.01</td>\n",
       "    </tr>\n",
       "    <tr>\n",
       "      <th>2020-11-09 23:00:00</th>\n",
       "      <td>114.7</td>\n",
       "      <td>9.6</td>\n",
       "      <td>2.17</td>\n",
       "    </tr>\n",
       "  </tbody>\n",
       "</table>\n",
       "<p>2088 rows × 3 columns</p>\n",
       "</div>"
      ],
      "text/plain": [
       "                     m3_h_orig_orig  OUT_TEMP    MW\n",
       "timestamp                                          \n",
       "2020-08-15 00:00:00            59.8      24.0  0.94\n",
       "2020-08-15 01:00:00            59.8      22.9  0.94\n",
       "2020-08-15 02:00:00            64.6      21.5  1.07\n",
       "2020-08-15 03:00:00            56.2      21.9  0.91\n",
       "2020-08-15 04:00:00            64.6      21.5  0.99\n",
       "...                             ...       ...   ...\n",
       "2020-11-09 19:00:00           103.3      11.6  1.76\n",
       "2020-11-09 20:00:00           103.6      10.6  1.76\n",
       "2020-11-09 21:00:00           104.8       9.8  1.91\n",
       "2020-11-09 22:00:00           104.8       9.6  2.01\n",
       "2020-11-09 23:00:00           114.7       9.6  2.17\n",
       "\n",
       "[2088 rows x 3 columns]"
      ]
     },
     "execution_count": 4,
     "metadata": {},
     "output_type": "execute_result"
    }
   ],
   "source": [
    "# read data and encode timestamp feature as index and encode it then as _DatetimeIndex_to allocate proper _freq_\n",
    "df_base = pd.read_excel('Summer_Period_Dibit2_V04_REPLICA.xlsx')\n",
    "df_base.index = df_base['timestamp']\n",
    "df_base.index = pd.DatetimeIndex(df_base.index, freq='H')   #note the use of: .values (test dropping it from _df_base.index_)\n",
    "\n",
    "# df_base['timestamp'].index = pd.DatetimeIndex(df_base['timestamp'].index, freq='H')   ## this can streamline line 4 above...but in SARMIMAX it does not read _freq_and gives warning)\n",
    "\n",
    "#df_base.info()\n",
    "\n",
    "ts1 = df_base[['m3_h_orig_orig','OUT_TEMP', 'MW']]          #timestamp column is dropped as it is doubled with index \n",
    "endog = ts1['MW']\n",
    "exog = ts1[['m3_h_orig_orig','OUT_TEMP']]\n",
    "ts1"
   ]
  },
  {
   "cell_type": "markdown",
   "id": "6b3c0b62",
   "metadata": {},
   "source": [
    "### (pdq) (PDQ)m stepwise search with pmdarima API"
   ]
  },
  {
   "cell_type": "code",
   "execution_count": 6,
   "id": "5676d968",
   "metadata": {
    "scrolled": true
   },
   "outputs": [],
   "source": [
    "# pip install pmdarima      ...reinstall module if needed"
   ]
  },
  {
   "cell_type": "code",
   "execution_count": 7,
   "id": "86b4e6f4",
   "metadata": {
    "scrolled": true
   },
   "outputs": [
    {
     "name": "stdout",
     "output_type": "stream",
     "text": [
      "1.8.2\n"
     ]
    }
   ],
   "source": [
    "import pmdarima\n",
    "print(pmdarima.__version__)"
   ]
  },
  {
   "cell_type": "code",
   "execution_count": 8,
   "id": "4a0cd12d",
   "metadata": {},
   "outputs": [],
   "source": [
    "# import auto_arima function (from pmdarima.arima.auto_arima) to select stepwise best SARIMAX parmaters\n",
    "from pmdarima.arima import auto_arima"
   ]
  },
  {
   "cell_type": "code",
   "execution_count": 10,
   "id": "e03dc75d",
   "metadata": {},
   "outputs": [
    {
     "name": "stdout",
     "output_type": "stream",
     "text": [
      "Performing stepwise search to minimize aic\n",
      " ARIMA(2,1,2)(1,0,1)[24] intercept   : AIC=-5466.207, Time=26.88 sec\n",
      " ARIMA(0,1,0)(0,0,0)[24] intercept   : AIC=-4785.384, Time=0.38 sec\n",
      " ARIMA(1,1,0)(1,0,0)[24] intercept   : AIC=-5109.994, Time=9.50 sec\n",
      " ARIMA(0,1,1)(0,0,1)[24] intercept   : AIC=-5288.199, Time=10.99 sec\n",
      " ARIMA(0,1,0)(0,0,0)[24]             : AIC=-4787.365, Time=0.46 sec\n",
      " ARIMA(2,1,2)(0,0,1)[24] intercept   : AIC=-5402.528, Time=21.63 sec\n",
      " ARIMA(2,1,2)(1,0,0)[24] intercept   : AIC=-5451.069, Time=18.57 sec\n",
      " ARIMA(2,1,2)(2,0,1)[24] intercept   : AIC=-5460.660, Time=97.08 sec\n",
      " ARIMA(2,1,2)(1,0,2)[24] intercept   : AIC=-5473.402, Time=85.28 sec\n",
      " ARIMA(2,1,2)(0,0,2)[24] intercept   : AIC=-5469.403, Time=77.38 sec\n",
      " ARIMA(2,1,2)(2,0,2)[24] intercept   : AIC=-5475.754, Time=96.46 sec\n",
      " ARIMA(1,1,2)(2,0,2)[24] intercept   : AIC=-5399.177, Time=84.33 sec\n",
      " ARIMA(2,1,1)(2,0,2)[24] intercept   : AIC=-5396.713, Time=99.86 sec\n",
      " ARIMA(3,1,2)(2,0,2)[24] intercept   : AIC=-5446.112, Time=114.07 sec\n",
      " ARIMA(2,1,3)(2,0,2)[24] intercept   : AIC=-5436.250, Time=125.00 sec\n",
      " ARIMA(1,1,1)(2,0,2)[24] intercept   : AIC=-5422.215, Time=87.21 sec\n",
      " ARIMA(1,1,3)(2,0,2)[24] intercept   : AIC=-5435.787, Time=121.29 sec\n",
      " ARIMA(3,1,1)(2,0,2)[24] intercept   : AIC=-5296.956, Time=94.19 sec\n",
      " ARIMA(3,1,3)(2,0,2)[24] intercept   : AIC=-5458.753, Time=139.39 sec\n",
      " ARIMA(2,1,2)(2,0,2)[24]             : AIC=-5483.826, Time=83.99 sec\n",
      " ARIMA(2,1,2)(1,0,2)[24]             : AIC=-5476.662, Time=81.62 sec\n",
      " ARIMA(2,1,2)(2,0,1)[24]             : AIC=-5467.629, Time=83.44 sec\n",
      " ARIMA(2,1,2)(1,0,1)[24]             : AIC=-5469.099, Time=21.40 sec\n",
      " ARIMA(1,1,2)(2,0,2)[24]             : AIC=-5408.757, Time=78.56 sec\n",
      " ARIMA(2,1,1)(2,0,2)[24]             : AIC=-5399.245, Time=78.12 sec\n",
      " ARIMA(3,1,2)(2,0,2)[24]             : AIC=-5486.872, Time=90.87 sec\n",
      " ARIMA(3,1,2)(1,0,2)[24]             : AIC=-5449.003, Time=81.32 sec\n",
      " ARIMA(3,1,2)(2,0,1)[24]             : AIC=-5478.366, Time=79.64 sec\n",
      " ARIMA(3,1,2)(1,0,1)[24]             : AIC=-5449.776, Time=24.02 sec\n",
      " ARIMA(3,1,1)(2,0,2)[24]             : AIC=-5301.809, Time=80.14 sec\n",
      " ARIMA(4,1,2)(2,0,2)[24]             : AIC=-5458.371, Time=106.90 sec\n",
      " ARIMA(3,1,3)(2,0,2)[24]             : AIC=-5471.942, Time=113.53 sec\n",
      " ARIMA(2,1,3)(2,0,2)[24]             : AIC=-5440.084, Time=108.28 sec\n",
      " ARIMA(4,1,1)(2,0,2)[24]             : AIC=-5346.253, Time=109.78 sec\n",
      " ARIMA(4,1,3)(2,0,2)[24]             : AIC=-5480.620, Time=125.49 sec\n",
      "\n",
      "Best model:  ARIMA(3,1,2)(2,0,2)[24]          \n",
      "Total fit time: 2657.402 seconds\n"
     ]
    }
   ],
   "source": [
    "model1 = auto_arima(endog, exogenous=exog, trace=True, seasonal=True, m=24)"
   ]
  },
  {
   "cell_type": "code",
   "execution_count": 11,
   "id": "c1a47eed",
   "metadata": {},
   "outputs": [
    {
     "data": {
      "text/html": [
       "<table class=\"simpletable\">\n",
       "<caption>SARIMAX Results</caption>\n",
       "<tr>\n",
       "  <th>Dep. Variable:</th>                  <td>y</td>               <th>  No. Observations:  </th>   <td>2088</td>   \n",
       "</tr>\n",
       "<tr>\n",
       "  <th>Model:</th>           <td>SARIMAX(3, 1, 2)x(2, 0, 2, 24)</td> <th>  Log Likelihood     </th> <td>2755.436</td> \n",
       "</tr>\n",
       "<tr>\n",
       "  <th>Date:</th>                   <td>Wed, 19 May 2021</td>        <th>  AIC                </th> <td>-5486.872</td>\n",
       "</tr>\n",
       "<tr>\n",
       "  <th>Time:</th>                       <td>21:28:02</td>            <th>  BIC                </th> <td>-5419.150</td>\n",
       "</tr>\n",
       "<tr>\n",
       "  <th>Sample:</th>                    <td>08-15-2020</td>           <th>  HQIC               </th> <td>-5462.059</td>\n",
       "</tr>\n",
       "<tr>\n",
       "  <th></th>                          <td>- 11-09-2020</td>          <th>                     </th>     <td> </td>    \n",
       "</tr>\n",
       "<tr>\n",
       "  <th>Covariance Type:</th>               <td>opg</td>              <th>                     </th>     <td> </td>    \n",
       "</tr>\n",
       "</table>\n",
       "<table class=\"simpletable\">\n",
       "<tr>\n",
       "         <td></td>           <th>coef</th>     <th>std err</th>      <th>z</th>      <th>P>|z|</th>  <th>[0.025</th>    <th>0.975]</th>  \n",
       "</tr>\n",
       "<tr>\n",
       "  <th>m3_h_orig_orig</th> <td>    0.0135</td> <td> 9.46e-05</td> <td>  142.247</td> <td> 0.000</td> <td>    0.013</td> <td>    0.014</td>\n",
       "</tr>\n",
       "<tr>\n",
       "  <th>OUT_TEMP</th>       <td>   -0.0041</td> <td>    0.001</td> <td>   -4.779</td> <td> 0.000</td> <td>   -0.006</td> <td>   -0.002</td>\n",
       "</tr>\n",
       "<tr>\n",
       "  <th>ar.L1</th>          <td>   -0.4460</td> <td>    0.686</td> <td>   -0.650</td> <td> 0.516</td> <td>   -1.792</td> <td>    0.899</td>\n",
       "</tr>\n",
       "<tr>\n",
       "  <th>ar.L2</th>          <td>    0.3457</td> <td>    0.181</td> <td>    1.908</td> <td> 0.056</td> <td>   -0.009</td> <td>    0.701</td>\n",
       "</tr>\n",
       "<tr>\n",
       "  <th>ar.L3</th>          <td>    0.0980</td> <td>    0.115</td> <td>    0.854</td> <td> 0.393</td> <td>   -0.127</td> <td>    0.323</td>\n",
       "</tr>\n",
       "<tr>\n",
       "  <th>ma.L1</th>          <td>   -0.2606</td> <td>    0.684</td> <td>   -0.381</td> <td> 0.703</td> <td>   -1.602</td> <td>    1.081</td>\n",
       "</tr>\n",
       "<tr>\n",
       "  <th>ma.L2</th>          <td>   -0.6957</td> <td>    0.668</td> <td>   -1.042</td> <td> 0.297</td> <td>   -2.004</td> <td>    0.613</td>\n",
       "</tr>\n",
       "<tr>\n",
       "  <th>ar.S.L24</th>       <td>    0.1483</td> <td>    0.479</td> <td>    0.309</td> <td> 0.757</td> <td>   -0.791</td> <td>    1.088</td>\n",
       "</tr>\n",
       "<tr>\n",
       "  <th>ar.S.L48</th>       <td>    0.2984</td> <td>    0.350</td> <td>    0.852</td> <td> 0.394</td> <td>   -0.388</td> <td>    0.985</td>\n",
       "</tr>\n",
       "<tr>\n",
       "  <th>ma.S.L24</th>       <td>   -0.0377</td> <td>    0.483</td> <td>   -0.078</td> <td> 0.938</td> <td>   -0.984</td> <td>    0.909</td>\n",
       "</tr>\n",
       "<tr>\n",
       "  <th>ma.S.L48</th>       <td>   -0.2057</td> <td>    0.304</td> <td>   -0.676</td> <td> 0.499</td> <td>   -0.802</td> <td>    0.390</td>\n",
       "</tr>\n",
       "<tr>\n",
       "  <th>sigma2</th>         <td>    0.0042</td> <td> 5.59e-05</td> <td>   74.389</td> <td> 0.000</td> <td>    0.004</td> <td>    0.004</td>\n",
       "</tr>\n",
       "</table>\n",
       "<table class=\"simpletable\">\n",
       "<tr>\n",
       "  <th>Ljung-Box (L1) (Q):</th>     <td>10.68</td> <th>  Jarque-Bera (JB):  </th> <td>13388.95</td>\n",
       "</tr>\n",
       "<tr>\n",
       "  <th>Prob(Q):</th>                <td>0.00</td>  <th>  Prob(JB):          </th>   <td>0.00</td>  \n",
       "</tr>\n",
       "<tr>\n",
       "  <th>Heteroskedasticity (H):</th> <td>3.39</td>  <th>  Skew:              </th>   <td>-1.19</td> \n",
       "</tr>\n",
       "<tr>\n",
       "  <th>Prob(H) (two-sided):</th>    <td>0.00</td>  <th>  Kurtosis:          </th>   <td>15.18</td> \n",
       "</tr>\n",
       "</table><br/><br/>Warnings:<br/>[1] Covariance matrix calculated using the outer product of gradients (complex-step)."
      ],
      "text/plain": [
       "<class 'statsmodels.iolib.summary.Summary'>\n",
       "\"\"\"\n",
       "                                     SARIMAX Results                                      \n",
       "==========================================================================================\n",
       "Dep. Variable:                                  y   No. Observations:                 2088\n",
       "Model:             SARIMAX(3, 1, 2)x(2, 0, 2, 24)   Log Likelihood                2755.436\n",
       "Date:                            Wed, 19 May 2021   AIC                          -5486.872\n",
       "Time:                                    21:28:02   BIC                          -5419.150\n",
       "Sample:                                08-15-2020   HQIC                         -5462.059\n",
       "                                     - 11-09-2020                                         \n",
       "Covariance Type:                              opg                                         \n",
       "==================================================================================\n",
       "                     coef    std err          z      P>|z|      [0.025      0.975]\n",
       "----------------------------------------------------------------------------------\n",
       "m3_h_orig_orig     0.0135   9.46e-05    142.247      0.000       0.013       0.014\n",
       "OUT_TEMP          -0.0041      0.001     -4.779      0.000      -0.006      -0.002\n",
       "ar.L1             -0.4460      0.686     -0.650      0.516      -1.792       0.899\n",
       "ar.L2              0.3457      0.181      1.908      0.056      -0.009       0.701\n",
       "ar.L3              0.0980      0.115      0.854      0.393      -0.127       0.323\n",
       "ma.L1             -0.2606      0.684     -0.381      0.703      -1.602       1.081\n",
       "ma.L2             -0.6957      0.668     -1.042      0.297      -2.004       0.613\n",
       "ar.S.L24           0.1483      0.479      0.309      0.757      -0.791       1.088\n",
       "ar.S.L48           0.2984      0.350      0.852      0.394      -0.388       0.985\n",
       "ma.S.L24          -0.0377      0.483     -0.078      0.938      -0.984       0.909\n",
       "ma.S.L48          -0.2057      0.304     -0.676      0.499      -0.802       0.390\n",
       "sigma2             0.0042   5.59e-05     74.389      0.000       0.004       0.004\n",
       "===================================================================================\n",
       "Ljung-Box (L1) (Q):                  10.68   Jarque-Bera (JB):             13388.95\n",
       "Prob(Q):                              0.00   Prob(JB):                         0.00\n",
       "Heteroskedasticity (H):               3.39   Skew:                            -1.19\n",
       "Prob(H) (two-sided):                  0.00   Kurtosis:                        15.18\n",
       "===================================================================================\n",
       "\n",
       "Warnings:\n",
       "[1] Covariance matrix calculated using the outer product of gradients (complex-step).\n",
       "\"\"\""
      ]
     },
     "execution_count": 11,
     "metadata": {},
     "output_type": "execute_result"
    }
   ],
   "source": [
    "model1.summary()"
   ]
  },
  {
   "cell_type": "markdown",
   "id": "4eba31db",
   "metadata": {},
   "source": [
    "### final model1(Python build) (vs IBM model (SPSS 27))"
   ]
  },
  {
   "cell_type": "code",
   "execution_count": 23,
   "id": "ffa025a7",
   "metadata": {},
   "outputs": [
    {
     "name": "stderr",
     "output_type": "stream",
     "text": [
      "C:\\Users\\GLP\\anaconda3\\envs\\SARIMAX_py38_test_auto_arima\\lib\\site-packages\\statsmodels\\base\\model.py:566: ConvergenceWarning: Maximum Likelihood optimization failed to converge. Check mle_retvals\n",
      "  warnings.warn(\"Maximum Likelihood optimization failed to \"\n"
     ]
    },
    {
     "name": "stdout",
     "output_type": "stream",
     "text": [
      "                                     SARIMAX Results                                      \n",
      "==========================================================================================\n",
      "Dep. Variable:                                 MW   No. Observations:                 2088\n",
      "Model:             SARIMAX(3, 1, 2)x(2, 0, 2, 24)   Log Likelihood                2783.920\n",
      "Date:                            Thu, 20 May 2021   AIC                          -5543.840\n",
      "Time:                                    15:52:37   BIC                          -5476.118\n",
      "Sample:                                08-15-2020   HQIC                         -5519.027\n",
      "                                     - 11-09-2020                                         \n",
      "Covariance Type:                              opg                                         \n",
      "==================================================================================\n",
      "                     coef    std err          z      P>|z|      [0.025      0.975]\n",
      "----------------------------------------------------------------------------------\n",
      "m3_h_orig_orig     0.0132   8.73e-05    150.842      0.000       0.013       0.013\n",
      "OUT_TEMP          -0.0059      0.001     -5.179      0.000      -0.008      -0.004\n",
      "ar.L1             -0.3934      4.706     -0.084      0.933      -9.616       8.829\n",
      "ar.L2              0.3476      1.525      0.228      0.820      -2.641       3.337\n",
      "ar.L3              0.0847      0.538      0.158      0.875      -0.969       1.139\n",
      "ma.L1             -0.2550      4.707     -0.054      0.957      -9.480       8.970\n",
      "ma.L2             -0.6966      4.573     -0.152      0.879      -9.660       8.267\n",
      "ar.S.L24           0.1023      0.269      0.381      0.704      -0.424       0.629\n",
      "ar.S.L48           0.8520      0.263      3.242      0.001       0.337       1.367\n",
      "ma.S.L24          -0.0485      0.277     -0.175      0.861      -0.591       0.494\n",
      "ma.S.L48          -0.7882      0.254     -3.108      0.002      -1.285      -0.291\n",
      "sigma2             0.0040    5.3e-05     76.310      0.000       0.004       0.004\n",
      "===================================================================================\n",
      "Ljung-Box (L1) (Q):                   0.01   Jarque-Bera (JB):             14728.69\n",
      "Prob(Q):                              0.94   Prob(JB):                         0.00\n",
      "Heteroskedasticity (H):               3.34   Skew:                            -1.25\n",
      "Prob(H) (two-sided):                  0.00   Kurtosis:                        15.77\n",
      "===================================================================================\n",
      "\n",
      "Warnings:\n",
      "[1] Covariance matrix calculated using the outer product of gradients (complex-step).\n"
     ]
    }
   ],
   "source": [
    "#In-Sample fitting - model1 - from .auto_arima [Log Likelihood 2755.436 ; AIC -5486.872]\n",
    "# fit the complete model\n",
    "model = SARIMAX(endog, exog, order=(3,1,2), seasonal_order=(2,0,2,24))  #model1 = (3, 1, 2)x(2, 0, 2, 24) no intecept\n",
    "fit_res = model.fit(disp=False, maxiter=250)\n",
    "print(fit_res.summary())"
   ]
  },
  {
   "cell_type": "code",
   "execution_count": 24,
   "id": "88c22fad",
   "metadata": {},
   "outputs": [
    {
     "data": {
      "text/plain": [
       "timestamp\n",
       "2020-08-15 00:00:00    0.644923\n",
       "2020-08-15 01:00:00    0.946539\n",
       "2020-08-15 02:00:00    1.014130\n",
       "2020-08-15 03:00:00    0.930514\n",
       "2020-08-15 04:00:00    1.031647\n",
       "                         ...   \n",
       "2020-11-09 19:00:00    1.808603\n",
       "2020-11-09 20:00:00    1.777398\n",
       "2020-11-09 21:00:00    1.796933\n",
       "2020-11-09 22:00:00    1.880522\n",
       "2020-11-09 23:00:00    2.077430\n",
       "Freq: H, Name: predicted_mean, Length: 2088, dtype: float64"
      ]
     },
     "execution_count": 24,
     "metadata": {},
     "output_type": "execute_result"
    }
   ],
   "source": [
    "# In-sample forecast (baseline approach, no train test split for backtesting)\n",
    "yhat = fit_res.predict(start=0, end=2087, exog=exog)        # example of In-sample forecast with exo \n",
    "yhat"
   ]
  },
  {
   "cell_type": "code",
   "execution_count": 25,
   "id": "4d68fbf8",
   "metadata": {},
   "outputs": [
    {
     "name": "stderr",
     "output_type": "stream",
     "text": [
      "<ipython-input-25-e94e9a6b7019>:1: SettingWithCopyWarning: \n",
      "A value is trying to be set on a copy of a slice from a DataFrame.\n",
      "Try using .loc[row_indexer,col_indexer] = value instead\n",
      "\n",
      "See the caveats in the documentation: https://pandas.pydata.org/pandas-docs/stable/user_guide/indexing.html#returning-a-view-versus-a-copy\n",
      "  ts1['Forecast_SARIMAX']=yhat   # appending forecast values to ts1 dataframe\n"
     ]
    },
    {
     "data": {
      "text/html": [
       "<div>\n",
       "<style scoped>\n",
       "    .dataframe tbody tr th:only-of-type {\n",
       "        vertical-align: middle;\n",
       "    }\n",
       "\n",
       "    .dataframe tbody tr th {\n",
       "        vertical-align: top;\n",
       "    }\n",
       "\n",
       "    .dataframe thead th {\n",
       "        text-align: right;\n",
       "    }\n",
       "</style>\n",
       "<table border=\"1\" class=\"dataframe\">\n",
       "  <thead>\n",
       "    <tr style=\"text-align: right;\">\n",
       "      <th></th>\n",
       "      <th>m3_h_orig_orig</th>\n",
       "      <th>OUT_TEMP</th>\n",
       "      <th>MW</th>\n",
       "      <th>Forecast_SARIMAX</th>\n",
       "    </tr>\n",
       "    <tr>\n",
       "      <th>timestamp</th>\n",
       "      <th></th>\n",
       "      <th></th>\n",
       "      <th></th>\n",
       "      <th></th>\n",
       "    </tr>\n",
       "  </thead>\n",
       "  <tbody>\n",
       "    <tr>\n",
       "      <th>2020-08-15 00:00:00</th>\n",
       "      <td>59.8</td>\n",
       "      <td>24.0</td>\n",
       "      <td>0.94</td>\n",
       "      <td>0.644923</td>\n",
       "    </tr>\n",
       "    <tr>\n",
       "      <th>2020-08-15 01:00:00</th>\n",
       "      <td>59.8</td>\n",
       "      <td>22.9</td>\n",
       "      <td>0.94</td>\n",
       "      <td>0.946539</td>\n",
       "    </tr>\n",
       "    <tr>\n",
       "      <th>2020-08-15 02:00:00</th>\n",
       "      <td>64.6</td>\n",
       "      <td>21.5</td>\n",
       "      <td>1.07</td>\n",
       "      <td>1.014130</td>\n",
       "    </tr>\n",
       "    <tr>\n",
       "      <th>2020-08-15 03:00:00</th>\n",
       "      <td>56.2</td>\n",
       "      <td>21.9</td>\n",
       "      <td>0.91</td>\n",
       "      <td>0.930514</td>\n",
       "    </tr>\n",
       "    <tr>\n",
       "      <th>2020-08-15 04:00:00</th>\n",
       "      <td>64.6</td>\n",
       "      <td>21.5</td>\n",
       "      <td>0.99</td>\n",
       "      <td>1.031647</td>\n",
       "    </tr>\n",
       "    <tr>\n",
       "      <th>...</th>\n",
       "      <td>...</td>\n",
       "      <td>...</td>\n",
       "      <td>...</td>\n",
       "      <td>...</td>\n",
       "    </tr>\n",
       "    <tr>\n",
       "      <th>2020-11-09 19:00:00</th>\n",
       "      <td>103.3</td>\n",
       "      <td>11.6</td>\n",
       "      <td>1.76</td>\n",
       "      <td>1.808603</td>\n",
       "    </tr>\n",
       "    <tr>\n",
       "      <th>2020-11-09 20:00:00</th>\n",
       "      <td>103.6</td>\n",
       "      <td>10.6</td>\n",
       "      <td>1.76</td>\n",
       "      <td>1.777398</td>\n",
       "    </tr>\n",
       "    <tr>\n",
       "      <th>2020-11-09 21:00:00</th>\n",
       "      <td>104.8</td>\n",
       "      <td>9.8</td>\n",
       "      <td>1.91</td>\n",
       "      <td>1.796933</td>\n",
       "    </tr>\n",
       "    <tr>\n",
       "      <th>2020-11-09 22:00:00</th>\n",
       "      <td>104.8</td>\n",
       "      <td>9.6</td>\n",
       "      <td>2.01</td>\n",
       "      <td>1.880522</td>\n",
       "    </tr>\n",
       "    <tr>\n",
       "      <th>2020-11-09 23:00:00</th>\n",
       "      <td>114.7</td>\n",
       "      <td>9.6</td>\n",
       "      <td>2.17</td>\n",
       "      <td>2.077430</td>\n",
       "    </tr>\n",
       "  </tbody>\n",
       "</table>\n",
       "<p>2088 rows × 4 columns</p>\n",
       "</div>"
      ],
      "text/plain": [
       "                     m3_h_orig_orig  OUT_TEMP    MW  Forecast_SARIMAX\n",
       "timestamp                                                            \n",
       "2020-08-15 00:00:00            59.8      24.0  0.94          0.644923\n",
       "2020-08-15 01:00:00            59.8      22.9  0.94          0.946539\n",
       "2020-08-15 02:00:00            64.6      21.5  1.07          1.014130\n",
       "2020-08-15 03:00:00            56.2      21.9  0.91          0.930514\n",
       "2020-08-15 04:00:00            64.6      21.5  0.99          1.031647\n",
       "...                             ...       ...   ...               ...\n",
       "2020-11-09 19:00:00           103.3      11.6  1.76          1.808603\n",
       "2020-11-09 20:00:00           103.6      10.6  1.76          1.777398\n",
       "2020-11-09 21:00:00           104.8       9.8  1.91          1.796933\n",
       "2020-11-09 22:00:00           104.8       9.6  2.01          1.880522\n",
       "2020-11-09 23:00:00           114.7       9.6  2.17          2.077430\n",
       "\n",
       "[2088 rows x 4 columns]"
      ]
     },
     "execution_count": 25,
     "metadata": {},
     "output_type": "execute_result"
    }
   ],
   "source": [
    "ts1['Forecast_SARIMAX']=yhat   # appending forecast values to ts1 dataframe\n",
    "ts1"
   ]
  },
  {
   "cell_type": "code",
   "execution_count": 26,
   "id": "088341e4",
   "metadata": {},
   "outputs": [
    {
     "name": "stdout",
     "output_type": "stream",
     "text": [
      "Test RMSE: 0.064\n",
      "Test MAPE: inf\n",
      "Test SMAPE: 3.391\n",
      "Correlation: 0.986\n",
      "R-squared: 0.972\n"
     ]
    },
    {
     "data": {
      "image/png": "[encoded data removed]",
      "text/plain": [
       "<Figure size 1152x648 with 1 Axes>"
      ]
     },
     "metadata": {
      "needs_background": "light"
     },
     "output_type": "display_data"
    }
   ],
   "source": [
    "# evaluate generalization performance of SARIMAX model above (In-sample forecast)\n",
    "obs=ts1['MW']\n",
    "pred=ts1['Forecast_SARIMAX']\n",
    "\n",
    "# RMSE\n",
    "rmse = sqrt(mean_squared_error(obs, pred))                                                # algo for RMSE\n",
    "print('Test RMSE: %.3f' % rmse)\n",
    "\n",
    "# MAPE - from 'https://vedexcel.com/how-to-calculate-mape-in-python/'\n",
    "def mape(obs, pred):\n",
    "    return np.mean(np.abs((obs - pred) / (obs)))*100                                      # algo for MAPE\n",
    "result = mape(obs, pred)                                                  \n",
    "print('Test MAPE: %.3f' % result)                            \n",
    "\n",
    "#SMAPE - from  'https://vedexcel.com/how-to-calculate-smape-in-python/'\n",
    "def smape(obs, pred):\n",
    "    return 100/len(obs) * np.sum(2 * np.abs(pred - obs) / (np.abs(obs) + np.abs(pred)))   # algo for SMAPE\n",
    "\n",
    "result = smape(obs,pred)\n",
    "print('Test SMAPE: %.3f' % result)\n",
    "\n",
    "# Pearson Correlation\n",
    "corr = np.corrcoef(obs, pred)[0,1]\n",
    "print('Correlation: %.3f' % corr)\n",
    "\n",
    "# R2 \n",
    "r2_result = corr**2                                                                       # algo for R-squared\n",
    "print('R-squared: %.3f' % r2_result)\n",
    "\n",
    "\n",
    "# plot forecasts against actual outcomes\n",
    "\n",
    "f = plt.figure()\n",
    "f.set_figwidth(16)\n",
    "f.set_figheight(9)\n",
    "plt.plot(obs, label = 'MW observed')\n",
    "plt.plot(pred, color='red', label = 'MW forecast')\n",
    "plt.legend()\n",
    "plt.show()"
   ]
  },
  {
   "cell_type": "code",
   "execution_count": null,
   "id": "b61694c8",
   "metadata": {},
   "outputs": [],
   "source": [
    "# end"
   ]
  }
 ],
 "metadata": {
  "kernelspec": {
   "display_name": "Python 3",
   "language": "python",
   "name": "python3"
  },
  "language_info": {
   "codemirror_mode": {
    "name": "ipython",
    "version": 3
   },
   "file_extension": ".py",
   "mimetype": "text/x-python",
   "name": "python",
   "nbconvert_exporter": "python",
   "pygments_lexer": "ipython3",
   "version": "3.8.10"
  }
 },
 "nbformat": 4,
 "nbformat_minor": 5
}
